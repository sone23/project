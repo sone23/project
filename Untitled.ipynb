{
 "cells": [
  {
   "cell_type": "markdown",
   "id": "1ac1bfb8",
   "metadata": {},
   "source": [
    "# Write-Up"
   ]
  },
  {
   "cell_type": "markdown",
   "id": "89c7e0a6",
   "metadata": {},
   "source": [
    "# Datasets\n",
    "\n"
   ]
  },
  {
   "cell_type": "markdown",
   "id": "937b71f6",
   "metadata": {},
   "source": [
    "# GAN: Generative Adversarial Network\n",
    "# Generator\n",
    "\n",
    "    Make a model using LSTM, Sequential, LeakyReLU, and more layers to construct both the generator and discriminator. "
   ]
  },
  {
   "cell_type": "markdown",
   "id": "109f9fc6",
   "metadata": {},
   "source": [
    "# Duties\n",
    "\n",
    "- Run model according to https://colab.research.google.com/github/tensorflow/docs/blob/master/site/en/tutorials/generative/dcgan.ipynb#scrollTo=6bpTcDqoLWjY\n",
    "- Compare loss from generator, then generator + discriminator across different look_aheads\n",
    "- "
   ]
  },
  {
   "cell_type": "markdown",
   "id": "91f39bbd",
   "metadata": {},
   "source": [
    "Results Using Solar Energy Dataset for generator only"
   ]
  }
 ],
 "metadata": {
  "kernelspec": {
   "display_name": "Python 3 (ipykernel)",
   "language": "python",
   "name": "python3"
  },
  "language_info": {
   "codemirror_mode": {
    "name": "ipython",
    "version": 3
   },
   "file_extension": ".py",
   "mimetype": "text/x-python",
   "name": "python",
   "nbconvert_exporter": "python",
   "pygments_lexer": "ipython3",
   "version": "3.10.2"
  }
 },
 "nbformat": 4,
 "nbformat_minor": 5
}
